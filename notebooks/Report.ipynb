{
 "cells": [
  {
   "cell_type": "markdown",
   "id": "adapted-nothing",
   "metadata": {},
   "source": [
    "# Player & Team Recognition"
   ]
  },
  {
   "cell_type": "code",
   "execution_count": null,
   "id": "graphic-testament",
   "metadata": {},
   "outputs": [],
   "source": [
    "from recognition_model import DataLoader"
   ]
  },
  {
   "cell_type": "code",
   "execution_count": null,
   "id": "occasional-influence",
   "metadata": {},
   "outputs": [],
   "source": [
    "dataloader = DataLoader(root=\"../data/part1\")"
   ]
  },
  {
   "cell_type": "code",
   "execution_count": null,
   "id": "superior-projector",
   "metadata": {},
   "outputs": [],
   "source": [
    "train_set = dataloader.train_set"
   ]
  },
  {
   "cell_type": "code",
   "execution_count": null,
   "id": "stable-adrian",
   "metadata": {},
   "outputs": [],
   "source": [
    "generate_labels = dataloader.generate_team_image_pairs_and_labels(train_set)\n",
    "for _ in range(20):\n",
    "    image_1, image_2, label = next(generate_labels)\n",
    "    print(image_1)\n",
    "    print(image_2)\n",
    "    print(label, \"\\n\\n\")"
   ]
  },
  {
   "cell_type": "code",
   "execution_count": null,
   "id": "humanitarian-opera",
   "metadata": {},
   "outputs": [],
   "source": []
  }
 ],
 "metadata": {
  "kernelspec": {
   "display_name": "Python 3",
   "language": "python",
   "name": "python3"
  },
  "language_info": {
   "codemirror_mode": {
    "name": "ipython",
    "version": 3
   },
   "file_extension": ".py",
   "mimetype": "text/x-python",
   "name": "python",
   "nbconvert_exporter": "python",
   "pygments_lexer": "ipython3",
   "version": "3.7.3"
  }
 },
 "nbformat": 4,
 "nbformat_minor": 5
}
