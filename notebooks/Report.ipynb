{
 "cells": [
  {
   "cell_type": "markdown",
   "id": "adapted-nothing",
   "metadata": {},
   "source": [
    "# Player & Team Recognition"
   ]
  },
  {
   "cell_type": "code",
   "execution_count": 1,
   "id": "graphic-testament",
   "metadata": {},
   "outputs": [],
   "source": [
    "from recognition_model import DataLoader"
   ]
  },
  {
   "cell_type": "code",
   "execution_count": 2,
   "id": "occasional-influence",
   "metadata": {},
   "outputs": [
    {
     "name": "stdout",
     "output_type": "stream",
     "text": [
      "2021-02-27 12:49:22 INFO Data Loader: Initialising Data Loader\n",
      "2021-02-27 12:49:22 INFO Data Loader: Setting random seed to: 42\n"
     ]
    }
   ],
   "source": [
    "dataloader = DataLoader(root=\"../data/part1\")"
   ]
  },
  {
   "cell_type": "code",
   "execution_count": 3,
   "id": "superior-projector",
   "metadata": {},
   "outputs": [],
   "source": [
    "train_set = dataloader.train_set"
   ]
  },
  {
   "cell_type": "code",
   "execution_count": 4,
   "id": "stable-adrian",
   "metadata": {},
   "outputs": [
    {
     "name": "stdout",
     "output_type": "stream",
     "text": [
      "../data/part1/spal_team_b/person_37/46.jpg\n",
      "../data/part1/spal_team_b/person_23/0.jpg\n",
      "1 \n",
      "\n",
      "\n",
      "../data/part1/spal_team_b/person_37/43.jpg\n",
      "../data/part1/spal_team_b/person_37/46.jpg\n",
      "1 \n",
      "\n",
      "\n",
      "../data/part1/middlesbrough/person_8/65.jpg\n",
      "../data/part1/spal_team_a/person_17/23.jpg\n",
      "0 \n",
      "\n",
      "\n",
      "../data/part1/wigan/person_22/12.jpg\n",
      "../data/part1/bristol/person_23/10.jpg\n",
      "0 \n",
      "\n",
      "\n",
      "../data/part1/wigan/person_15/4.jpg\n",
      "../data/part1/nottingham_forrest/person_3/10.jpg\n",
      "0 \n",
      "\n",
      "\n",
      "../data/part1/middlesbrough/person_6/69.jpg\n",
      "../data/part1/middlesbrough/person_27/0.jpg\n",
      "1 \n",
      "\n",
      "\n",
      "../data/part1/spal_team_b/person_37/36.jpg\n",
      "../data/part1/spal_team_a/person_15/26.jpg\n",
      "0 \n",
      "\n",
      "\n",
      "../data/part1/nottingham_forrest/person_28/8.jpg\n",
      "../data/part1/spal_team_a/person_15/16.jpg\n",
      "0 \n",
      "\n",
      "\n",
      "../data/part1/spal_team_b/person_37/4.jpg\n",
      "../data/part1/middlesbrough/person_26/3.jpg\n",
      "0 \n",
      "\n",
      "\n",
      "../data/part1/spal_team_b/person_23/7.jpg\n",
      "../data/part1/wigan/person_4/2.jpg\n",
      "0 \n",
      "\n",
      "\n",
      "../data/part1/wigan/person_5/21.jpg\n",
      "../data/part1/spal_team_b/person_10/4.jpg\n",
      "0 \n",
      "\n",
      "\n",
      "../data/part1/spal_team_a/person_77/7.jpg\n",
      "../data/part1/spal_team_b/person_10/2.jpg\n",
      "0 \n",
      "\n",
      "\n",
      "../data/part1/nottingham_forrest/person_22/9.jpg\n",
      "../data/part1/nottingham_forrest/person_28/6.jpg\n",
      "1 \n",
      "\n",
      "\n",
      "../data/part1/spal_team_a/person_19/52.jpg\n",
      "../data/part1/spal_team_b/person_37/14.jpg\n",
      "0 \n",
      "\n",
      "\n",
      "../data/part1/middlesbrough/person_26/2.jpg\n",
      "../data/part1/wigan/person_3/27.jpg\n",
      "0 \n",
      "\n",
      "\n",
      "../data/part1/wigan/person_3/22.jpg\n",
      "../data/part1/spal_team_a/person_19/63.jpg\n",
      "0 \n",
      "\n",
      "\n",
      "../data/part1/middlesbrough/person_5/8.jpg\n",
      "../data/part1/spal_team_b/person_23/8.jpg\n",
      "0 \n",
      "\n",
      "\n",
      "../data/part1/spal_team_a/person_10/2.jpg\n",
      "../data/part1/middlesbrough/person_8/46.jpg\n",
      "0 \n",
      "\n",
      "\n",
      "../data/part1/nottingham_forrest/person_22/15.jpg\n",
      "../data/part1/nottingham_forrest/person_7/57.jpg\n",
      "1 \n",
      "\n",
      "\n",
      "../data/part1/middlesbrough/person_5/34.jpg\n",
      "../data/part1/middlesbrough/person_26/1.jpg\n",
      "1 \n",
      "\n",
      "\n"
     ]
    }
   ],
   "source": [
    "generate_labels = dataloader.generate_team_image_pairs_and_labels(train_set)\n",
    "for _ in range(20):\n",
    "    image_1, image_2, label = next(generate_labels)\n",
    "    print(image_1)\n",
    "    print(image_2)\n",
    "    print(label, \"\\n\\n\")"
   ]
  },
  {
   "cell_type": "code",
   "execution_count": 5,
   "id": "humanitarian-opera",
   "metadata": {},
   "outputs": [],
   "source": [
    "from recognition_model import SiameseNetwork"
   ]
  },
  {
   "cell_type": "code",
   "execution_count": 6,
   "id": "changed-yukon",
   "metadata": {},
   "outputs": [
    {
     "name": "stdout",
     "output_type": "stream",
     "text": [
      "2021-02-27 12:49:44 INFO Siamese Network: Initialising Siamese Network\n",
      "2021-02-27 12:49:44 INFO Siamese Network: Setting random seed to: 42\n"
     ]
    }
   ],
   "source": [
    "siamese = SiameseNetwork()"
   ]
  },
  {
   "cell_type": "code",
   "execution_count": 8,
   "id": "dominican-still",
   "metadata": {},
   "outputs": [
    {
     "name": "stdout",
     "output_type": "stream",
     "text": [
      "Collecting matplotlib\n",
      "  Using cached matplotlib-3.3.4-cp37-cp37m-macosx_10_9_x86_64.whl (8.5 MB)\n",
      "Requirement already satisfied: pyparsing!=2.0.4,!=2.1.2,!=2.1.6,>=2.0.3 in /Users/BenKlasmer/Documents/Dev/recognition_model/venv/lib/python3.7/site-packages (from matplotlib) (2.4.7)\n",
      "Collecting pillow>=6.2.0\n",
      "  Using cached Pillow-8.1.0-cp37-cp37m-macosx_10_10_x86_64.whl (2.2 MB)\n",
      "Requirement already satisfied: python-dateutil>=2.1 in /Users/BenKlasmer/Documents/Dev/recognition_model/venv/lib/python3.7/site-packages (from matplotlib) (2.8.1)\n",
      "Requirement already satisfied: numpy>=1.15 in /Users/BenKlasmer/Documents/Dev/recognition_model/venv/lib/python3.7/site-packages (from matplotlib) (1.19.5)\n",
      "Collecting kiwisolver>=1.0.1\n",
      "  Using cached kiwisolver-1.3.1-cp37-cp37m-macosx_10_9_x86_64.whl (61 kB)\n",
      "Collecting cycler>=0.10\n",
      "  Using cached cycler-0.10.0-py2.py3-none-any.whl (6.5 kB)\n",
      "Requirement already satisfied: six in /Users/BenKlasmer/Documents/Dev/recognition_model/venv/lib/python3.7/site-packages (from cycler>=0.10->matplotlib) (1.15.0)\n",
      "Installing collected packages: pillow, kiwisolver, cycler, matplotlib\n",
      "Successfully installed cycler-0.10.0 kiwisolver-1.3.1 matplotlib-3.3.4 pillow-8.1.0\n"
     ]
    }
   ],
   "source": [
    "!pip install matplotlib"
   ]
  },
  {
   "cell_type": "code",
   "execution_count": 9,
   "id": "uniform-blair",
   "metadata": {},
   "outputs": [],
   "source": [
    "import matplotlib.pyplot as plt\n",
    "import matplotlib.image as mpimg"
   ]
  },
  {
   "cell_type": "code",
   "execution_count": 10,
   "id": "improved-curve",
   "metadata": {},
   "outputs": [],
   "source": [
    "img1 = mpimg.imread(image_1)"
   ]
  },
  {
   "cell_type": "code",
   "execution_count": 11,
   "id": "cardiac-macro",
   "metadata": {},
   "outputs": [
    {
     "data": {
      "text/plain": [
       "(224, 224, 3)"
      ]
     },
     "execution_count": 11,
     "metadata": {},
     "output_type": "execute_result"
    }
   ],
   "source": [
    "img1.shape"
   ]
  },
  {
   "cell_type": "code",
   "execution_count": 12,
   "id": "binary-yellow",
   "metadata": {},
   "outputs": [
    {
     "data": {
      "text/plain": [
       "10.25"
      ]
     },
     "execution_count": 12,
     "metadata": {},
     "output_type": "execute_result"
    }
   ],
   "source": [
    "(((((((224 - 2 - 2) / 2 ) - 2 - 2) / 2) - 2 - 2) / 2) - 2 - 2) / 2"
   ]
  },
  {
   "cell_type": "code",
   "execution_count": 13,
   "id": "suited-number",
   "metadata": {},
   "outputs": [
    {
     "data": {
      "text/plain": [
       "110.0"
      ]
     },
     "execution_count": 13,
     "metadata": {},
     "output_type": "execute_result"
    }
   ],
   "source": [
    "(224 - 2 - 2) / 2"
   ]
  },
  {
   "cell_type": "code",
   "execution_count": 14,
   "id": "coastal-building",
   "metadata": {},
   "outputs": [
    {
     "data": {
      "text/plain": [
       "53.0"
      ]
     },
     "execution_count": 14,
     "metadata": {},
     "output_type": "execute_result"
    }
   ],
   "source": [
    "(110 - 2 - 2) / 2"
   ]
  },
  {
   "cell_type": "code",
   "execution_count": 15,
   "id": "twelve-prototype",
   "metadata": {},
   "outputs": [
    {
     "data": {
      "text/plain": [
       "24.5"
      ]
     },
     "execution_count": 15,
     "metadata": {},
     "output_type": "execute_result"
    }
   ],
   "source": [
    "(53 - 2 - 2) / 2"
   ]
  },
  {
   "cell_type": "code",
   "execution_count": null,
   "id": "gross-supply",
   "metadata": {},
   "outputs": [],
   "source": []
  }
 ],
 "metadata": {
  "kernelspec": {
   "display_name": "Python 3",
   "language": "python",
   "name": "python3"
  },
  "language_info": {
   "codemirror_mode": {
    "name": "ipython",
    "version": 3
   },
   "file_extension": ".py",
   "mimetype": "text/x-python",
   "name": "python",
   "nbconvert_exporter": "python",
   "pygments_lexer": "ipython3",
   "version": "3.7.3"
  }
 },
 "nbformat": 4,
 "nbformat_minor": 5
}
